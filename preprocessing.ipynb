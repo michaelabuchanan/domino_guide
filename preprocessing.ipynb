{
 "cells": [
  {
   "cell_type": "code",
   "execution_count": 3,
   "id": "dda44159",
   "metadata": {},
   "outputs": [],
   "source": [
    "import pandas as pd\n",
    "import os\n",
    "import math"
   ]
  },
  {
   "cell_type": "code",
   "execution_count": 4,
   "id": "ba528a3d",
   "metadata": {},
   "outputs": [],
   "source": [
    "train = pd.read_csv('/domino/datasets/local/Titanic/train.csv')"
   ]
  },
  {
   "cell_type": "code",
   "execution_count": 5,
   "id": "3c85276a",
   "metadata": {},
   "outputs": [
    {
     "name": "stdout",
     "output_type": "stream",
     "text": [
      "29.69911764705882\n"
     ]
    }
   ],
   "source": [
    "# find average age to fill blanks\n",
    "avg_age = train['Age'].mean()\n",
    "print(avg_age)"
   ]
  },
  {
   "cell_type": "code",
   "execution_count": 6,
   "id": "447fd37e",
   "metadata": {},
   "outputs": [],
   "source": [
    "# function to turn gender strings to ints\n",
    "def num_gender(string_gender):\n",
    "    if string_gender == \"female\":\n",
    "        return 0\n",
    "    else:\n",
    "        return 1\n",
    "    \n",
    "def embark_encode(embark):\n",
    "    if embark == \"S\":\n",
    "        return 0\n",
    "    elif embark == \"C\":\n",
    "        return 1\n",
    "    elif embark == \"Q\":\n",
    "        return 2\n",
    "    else:\n",
    "        return 3\n",
    "    \n",
    "def fill_age(age):\n",
    "    if math.isnan(age):\n",
    "        return 30.0\n",
    "    else:\n",
    "        return age"
   ]
  },
  {
   "cell_type": "code",
   "execution_count": 7,
   "id": "76ccd488",
   "metadata": {},
   "outputs": [
    {
     "data": {
      "text/plain": [
       "['PassengerId',\n",
       " 'Survived',\n",
       " 'Pclass',\n",
       " 'Name',\n",
       " 'Sex',\n",
       " 'Age',\n",
       " 'SibSp',\n",
       " 'Parch',\n",
       " 'Ticket',\n",
       " 'Fare',\n",
       " 'Cabin',\n",
       " 'Embarked']"
      ]
     },
     "metadata": {},
     "output_type": "display_data"
    },
    {
     "name": "stdout",
     "output_type": "stream",
     "text": [
      "     PassengerId  Survived  Pclass  \\\n",
      "0              1         0       3   \n",
      "1              2         1       1   \n",
      "2              3         1       3   \n",
      "3              4         1       1   \n",
      "4              5         0       3   \n",
      "..           ...       ...     ...   \n",
      "886          887         0       2   \n",
      "887          888         1       1   \n",
      "888          889         0       3   \n",
      "889          890         1       1   \n",
      "890          891         0       3   \n",
      "\n",
      "                                                  Name  SibSp  Parch  \\\n",
      "0                              Braund, Mr. Owen Harris      1      0   \n",
      "1    Cumings, Mrs. John Bradley (Florence Briggs Th...      1      0   \n",
      "2                               Heikkinen, Miss. Laina      0      0   \n",
      "3         Futrelle, Mrs. Jacques Heath (Lily May Peel)      1      0   \n",
      "4                             Allen, Mr. William Henry      0      0   \n",
      "..                                                 ...    ...    ...   \n",
      "886                              Montvila, Rev. Juozas      0      0   \n",
      "887                       Graham, Miss. Margaret Edith      0      0   \n",
      "888           Johnston, Miss. Catherine Helen \"Carrie\"      1      2   \n",
      "889                              Behr, Mr. Karl Howell      0      0   \n",
      "890                                Dooley, Mr. Patrick      0      0   \n",
      "\n",
      "               Ticket     Fare Cabin  Sex  Embarked   Age  \n",
      "0           A/5 21171   7.2500   NaN    1         0  22.0  \n",
      "1            PC 17599  71.2833   C85    0         1  38.0  \n",
      "2    STON/O2. 3101282   7.9250   NaN    0         0  26.0  \n",
      "3              113803  53.1000  C123    0         0  35.0  \n",
      "4              373450   8.0500   NaN    1         0  35.0  \n",
      "..                ...      ...   ...  ...       ...   ...  \n",
      "886            211536  13.0000   NaN    1         0  27.0  \n",
      "887            112053  30.0000   B42    0         0  19.0  \n",
      "888        W./C. 6607  23.4500   NaN    0         0  30.0  \n",
      "889            111369  30.0000  C148    1         1  26.0  \n",
      "890            370376   7.7500   NaN    1         2  32.0  \n",
      "\n",
      "[891 rows x 12 columns]\n"
     ]
    }
   ],
   "source": [
    "display(list(train.columns.values)) \n",
    "\n",
    "# convert gender to ints\n",
    "gender = train.pop('Sex')\n",
    "gender = gender.apply(num_gender)\n",
    "train['Sex'] = gender\n",
    "\n",
    "# convert embark to ints\n",
    "em = train.pop('Embarked')\n",
    "em = em.apply(embark_encode)\n",
    "train['Embarked'] = em\n",
    "\n",
    "# Fill blank ages with age average\n",
    "age = train.pop('Age')\n",
    "age = age.apply(fill_age)\n",
    "train['Age'] = age\n",
    "\n",
    "print(train)"
   ]
  },
  {
   "cell_type": "code",
   "execution_count": 8,
   "id": "86fca5b0",
   "metadata": {},
   "outputs": [
    {
     "name": "stdout",
     "output_type": "stream",
     "text": [
      "     Pclass  SibSp  Parch     Fare  Sex  Embarked   Age  Survived\n",
      "0         3      1      0   7.2500    1         0  22.0         0\n",
      "1         1      1      0  71.2833    0         1  38.0         1\n",
      "2         3      0      0   7.9250    0         0  26.0         1\n",
      "3         1      1      0  53.1000    0         0  35.0         1\n",
      "4         3      0      0   8.0500    1         0  35.0         0\n",
      "..      ...    ...    ...      ...  ...       ...   ...       ...\n",
      "886       2      0      0  13.0000    1         0  27.0         0\n",
      "887       1      0      0  30.0000    0         0  19.0         1\n",
      "888       3      1      2  23.4500    0         0  30.0         0\n",
      "889       1      0      0  30.0000    1         1  26.0         1\n",
      "890       3      0      0   7.7500    1         2  32.0         0\n",
      "\n",
      "[891 rows x 8 columns]\n"
     ]
    }
   ],
   "source": [
    "# move Survived to far right\n",
    "y = train.pop('Survived')\n",
    "train['Survived'] = y\n",
    "\n",
    "# get rid of columns I don't want to deal with yet\n",
    "train.pop('Ticket')\n",
    "train.pop('Name')\n",
    "train.pop('PassengerId')\n",
    "train.pop('Cabin')\n",
    "\n",
    "print(train)"
   ]
  },
  {
   "cell_type": "code",
   "execution_count": 9,
   "id": "217d3084",
   "metadata": {},
   "outputs": [],
   "source": [
    "# save back to dataset\n",
    "train.to_csv(\"/domino/datasets/local/Titanic/processed_train.csv\")\n",
    "# # os.chdir('/data/titanic')\n",
    "# os.system(\"cnvrg data put titanic/ .\")"
   ]
  }
 ],
 "metadata": {
  "kernelspec": {
   "display_name": "Python 3 (ipykernel)",
   "language": "python",
   "name": "python3"
  },
  "language_info": {
   "codemirror_mode": {
    "name": "ipython",
    "version": 3
   },
   "file_extension": ".py",
   "mimetype": "text/x-python",
   "name": "python",
   "nbconvert_exporter": "python",
   "pygments_lexer": "ipython3",
   "version": "3.8.10"
  }
 },
 "nbformat": 4,
 "nbformat_minor": 5
}
