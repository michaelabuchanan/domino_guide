{
 "cells": [
  {
   "cell_type": "code",
   "execution_count": 5,
   "id": "802e9ba1",
   "metadata": {
    "execution": {
     "iopub.execute_input": "2021-10-18T21:20:34.626173Z",
     "iopub.status.busy": "2021-10-18T21:20:34.625779Z",
     "iopub.status.idle": "2021-10-18T21:20:35.261310Z",
     "shell.execute_reply": "2021-10-18T21:20:35.260880Z"
    }
   },
   "outputs": [],
   "source": [
    "import numpy as np\n",
    "import pandas as pd\n",
    "import xgboost as xgb\n",
    "from sklearn.metrics import accuracy_score\n",
    "from sklearn.model_selection import train_test_split\n",
    "import json\n",
    "import sys"
   ]
  },
  {
   "cell_type": "code",
   "execution_count": 6,
   "id": "dd38da6c",
   "metadata": {
    "execution": {
     "iopub.execute_input": "2021-10-18T21:20:35.264269Z",
     "iopub.status.busy": "2021-10-18T21:20:35.263932Z",
     "iopub.status.idle": "2021-10-18T21:20:35.269525Z",
     "shell.execute_reply": "2021-10-18T21:20:35.269169Z"
    }
   },
   "outputs": [],
   "source": [
    "data = pd.read_csv('/domino/datasets/local/Titanic/processed_train.csv')"
   ]
  },
  {
   "cell_type": "code",
   "execution_count": 7,
   "id": "c65cf8ec",
   "metadata": {
    "execution": {
     "iopub.execute_input": "2021-10-18T21:20:35.273469Z",
     "iopub.status.busy": "2021-10-18T21:20:35.272522Z",
     "iopub.status.idle": "2021-10-18T21:20:35.275167Z",
     "shell.execute_reply": "2021-10-18T21:20:35.274880Z"
    }
   },
   "outputs": [],
   "source": [
    "y = data.pop('Survived')\n",
    "X = data\n",
    "X_train, X_test, y_train, y_test = train_test_split(X, y, test_size=0.33)"
   ]
  },
  {
   "cell_type": "code",
   "execution_count": 8,
   "id": "6c34451b",
   "metadata": {
    "execution": {
     "iopub.execute_input": "2021-10-18T21:20:35.277973Z",
     "iopub.status.busy": "2021-10-18T21:20:35.277617Z",
     "iopub.status.idle": "2021-10-18T21:20:35.366974Z",
     "shell.execute_reply": "2021-10-18T21:20:35.366620Z"
    }
   },
   "outputs": [
    {
     "name": "stdout",
     "output_type": "stream",
     "text": [
      "[21:57:26] WARNING: ../src/learner.cc:1095: Starting in XGBoost 1.3.0, the default evaluation metric used with the objective 'binary:logistic' was changed from 'error' to 'logloss'. Explicitly set eval_metric if you'd like to restore the old behavior.\n",
      "Accuracy: 80.68%\n"
     ]
    }
   ],
   "source": [
    "model = xgb.XGBClassifier(use_label_encoder=False)\n",
    "model.fit(X_train, y_train)\n",
    "y_pred = model.predict(X_test)\n",
    "accuracy = accuracy_score(y_test, y_pred)\n",
    "print(\"Accuracy: %.2f%%\" % (accuracy * 100.0))"
   ]
  }
 ],
 "metadata": {
  "kernelspec": {
   "display_name": "Python 3 (ipykernel)",
   "language": "python",
   "name": "python3"
  },
  "language_info": {
   "codemirror_mode": {
    "name": "ipython",
    "version": 3
   },
   "file_extension": ".py",
   "mimetype": "text/x-python",
   "name": "python",
   "nbconvert_exporter": "python",
   "pygments_lexer": "ipython3",
   "version": "3.8.10"
  }
 },
 "nbformat": 4,
 "nbformat_minor": 5
}
